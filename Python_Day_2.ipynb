{
  "cells": [
    {
      "cell_type": "markdown",
      "id": "7de17b21",
      "metadata": {
        "id": "7de17b21"
      },
      "source": [
        "# DataDrift with Us - Python Day 2"
      ]
    },
    {
      "cell_type": "markdown",
      "id": "77b219ef",
      "metadata": {
        "id": "77b219ef"
      },
      "source": [
        "###  Topics Covered:\n",
        "- Input & Output\n",
        "- Data Types\n",
        "- Typecasting\n",
        "- Operators\n",
        "- Conditional Statements"
      ]
    },
    {
      "cell_type": "markdown",
      "id": "138ba85b",
      "metadata": {
        "id": "138ba85b"
      },
      "source": [
        "##  1. Input and Output"
      ]
    },
    {
      "cell_type": "code",
      "execution_count": null,
      "id": "cd3a8083",
      "metadata": {
        "id": "cd3a8083"
      },
      "outputs": [],
      "source": [
        "name = input(\"Enter your name: \")\n",
        "print(\"Hello\", name)"
      ]
    },
    {
      "cell_type": "markdown",
      "id": "1751fabb",
      "metadata": {
        "id": "1751fabb"
      },
      "source": [
        "##  2. Checking Data Types"
      ]
    },
    {
      "cell_type": "code",
      "execution_count": null,
      "id": "0d45b57d",
      "metadata": {
        "id": "0d45b57d"
      },
      "outputs": [],
      "source": [
        "x = 42\n",
        "print(type(x))  # Output: <class 'int'>"
      ]
    },
    {
      "cell_type": "markdown",
      "id": "e95a941b",
      "metadata": {
        "id": "e95a941b"
      },
      "source": [
        "##  3. Typecasting"
      ]
    },
    {
      "cell_type": "code",
      "execution_count": null,
      "id": "b54106a8",
      "metadata": {
        "id": "b54106a8"
      },
      "outputs": [],
      "source": [
        "a = \"5\"\n",
        "b = int(a)\n",
        "print(b + 2)  # Output: 7"
      ]
    },
    {
      "cell_type": "markdown",
      "id": "c779187f",
      "metadata": {
        "id": "c779187f"
      },
      "source": [
        "**Common functions:** `int()`, `float()`, `str()`, `bool()`"
      ]
    },
    {
      "cell_type": "markdown",
      "id": "157b63d1",
      "metadata": {
        "id": "157b63d1"
      },
      "source": [
        "## 4. Operators in Python"
      ]
    },
    {
      "cell_type": "markdown",
      "id": "b04658d9",
      "metadata": {
        "id": "b04658d9"
      },
      "source": [
        "**Arithmetic Operators:** `+`, `-`, `*`, `/`, `//`, `%`, `**`  \n",
        "**Comparison Operators:** `==`, `!=`, `>`, `<`, `>=`, `<=`  \n",
        "**Logical Operators:** `and`, `or`, `not`"
      ]
    },
    {
      "cell_type": "code",
      "execution_count": null,
      "id": "390ce712",
      "metadata": {
        "id": "390ce712"
      },
      "outputs": [],
      "source": [
        "a = 10\n",
        "b = 5\n",
        "print(a > b and b < 10)  # Output: True"
      ]
    },
    {
      "cell_type": "markdown",
      "id": "6dca9826",
      "metadata": {
        "id": "6dca9826"
      },
      "source": [
        "## 5. Conditional Statements"
      ]
    },
    {
      "cell_type": "code",
      "execution_count": null,
      "id": "9937b842",
      "metadata": {
        "id": "9937b842"
      },
      "outputs": [],
      "source": [
        "marks = int(input(\"Enter your marks: \"))\n",
        "if marks >= 90:\n",
        "    print(\"Grade: A\")\n",
        "elif marks >= 75:\n",
        "    print(\"Grade: B\")\n",
        "else:\n",
        "    print(\"Keep improving!\")"
      ]
    },
    {
      "cell_type": "markdown",
      "id": "d3ae345f",
      "metadata": {
        "id": "d3ae345f"
      },
      "source": [
        "## ✅ Summary:\n",
        "- Took user input and printed output\n",
        "- Checked and converted data types\n",
        "- Practiced math & logic using operators\n",
        "- Used conditions to control code flow"
      ]
    }
  ],
  "metadata": {
    "colab": {
      "provenance": []
    }
  },
  "nbformat": 4,
  "nbformat_minor": 5
}