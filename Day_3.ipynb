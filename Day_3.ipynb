{
  "cells": [
    {
      "cell_type": "markdown",
      "metadata": {
        "id": "view-in-github",
        "colab_type": "text"
      },
      "source": [
        "<a href=\"https://colab.research.google.com/github/ahmadsanafarooq/Python-For-Data-Science/blob/main/Day_3.ipynb\" target=\"_parent\"><img src=\"https://colab.research.google.com/assets/colab-badge.svg\" alt=\"Open In Colab\"/></a>"
      ]
    },
    {
      "cell_type": "markdown",
      "id": "25d0c03b",
      "metadata": {
        "id": "25d0c03b"
      },
      "source": [
        "# DataDrift with Us - Python Day 3\n",
        "###  Topics Covered:\n",
        "**String Slicing**:\n",
        "\n",
        "* Accessing characters using index\n",
        "* Slice syntax: string[start:end:step]\n",
        "\n",
        "**Loops in Python**\n",
        "\n",
        "* for loop (iterating through strings, lists, ranges)\n",
        "\n",
        "* while loop (runs until a condition is false)\n",
        "\n",
        "**Loop Control Statements**\n",
        "\n",
        "* break – exits the loop early\n",
        "\n",
        "* continue – skips the current iteration\n",
        "\n",
        "* pass – placeholder, does nothing"
      ]
    },
    {
      "cell_type": "markdown",
      "id": "a528926c",
      "metadata": {
        "id": "a528926c"
      },
      "source": [
        "## 1. String Slicing"
      ]
    },
    {
      "cell_type": "code",
      "execution_count": null,
      "id": "a7d9da96",
      "metadata": {
        "colab": {
          "base_uri": "https://localhost:8080/"
        },
        "id": "a7d9da96",
        "outputId": "04ff0fd2-2845-4965-dd13-1b259c6e3ee5"
      },
      "outputs": [
        {
          "output_type": "stream",
          "name": "stdout",
          "text": [
            "a\n",
            "s\n",
            "ahmads\n",
            "ana\n",
            "ahmads\n",
            "anafarooq\n",
            "amdaaaoq\n",
            "qoorafanasdamha\n"
          ]
        }
      ],
      "source": [
        "text = \"ahmadsanafarooq\"\n",
        "\n",
        "# Accessing individual characters\n",
        "print(text[0])\n",
        "print(text[5])\n",
        "\n",
        "# Slicing substring\n",
        "print(text[0:6])\n",
        "print(text[6:9])\n",
        "\n",
        "# Omitting start or end\n",
        "print(text[:6])\n",
        "print(text[6:])\n",
        "\n",
        "# Using step\n",
        "print(text[::2])\n",
        "\n",
        "# Reversing the string\n",
        "print(text[::-1])"
      ]
    },
    {
      "cell_type": "markdown",
      "id": "9e198cbb",
      "metadata": {
        "id": "9e198cbb"
      },
      "source": [
        "## 2. For Loop"
      ]
    },
    {
      "cell_type": "code",
      "source": [
        "# Loop from 0 to 4 (range(5) generates numbers 0 to 4)\n",
        "for i in range(5):\n",
        "    # Print the current value of i\n",
        "    print(i)"
      ],
      "metadata": {
        "colab": {
          "base_uri": "https://localhost:8080/"
        },
        "id": "jYiTw-0bsWfc",
        "outputId": "a21d6651-0420-4bc9-879d-eb90cb4ea945"
      },
      "id": "jYiTw-0bsWfc",
      "execution_count": null,
      "outputs": [
        {
          "output_type": "stream",
          "name": "stdout",
          "text": [
            "0\n",
            "1\n",
            "2\n",
            "3\n",
            "4\n"
          ]
        }
      ]
    },
    {
      "cell_type": "code",
      "execution_count": null,
      "id": "21bebb04",
      "metadata": {
        "colab": {
          "base_uri": "https://localhost:8080/"
        },
        "id": "21bebb04",
        "outputId": "5553e7dc-e98d-4e8b-8716-212e81ab53e9"
      },
      "outputs": [
        {
          "output_type": "stream",
          "name": "stdout",
          "text": [
            "a\n",
            "h\n",
            "m\n",
            "a\n",
            "d\n"
          ]
        }
      ],
      "source": [
        "# Loop through a string\n",
        "for char in \"ahmad\":\n",
        "  # print all character\n",
        "    print(char)"
      ]
    },
    {
      "cell_type": "code",
      "source": [
        "# Loop through each character in the string \"AhmadSanaFarooq\"\n",
        "for i in \"AhmadSanaFarooq\":\n",
        "    # If the current character is 'a'\n",
        "    if i == 'a':\n",
        "        # Print the character (which is 'a')\n",
        "        print(i)"
      ],
      "metadata": {
        "colab": {
          "base_uri": "https://localhost:8080/"
        },
        "id": "t2H9Z7lSsmnl",
        "outputId": "7fa307be-1abb-4b18-8598-e331350fb62e"
      },
      "id": "t2H9Z7lSsmnl",
      "execution_count": null,
      "outputs": [
        {
          "output_type": "stream",
          "name": "stdout",
          "text": [
            "a\n",
            "a\n",
            "a\n",
            "a\n"
          ]
        }
      ]
    },
    {
      "cell_type": "markdown",
      "id": "0e9b25d3",
      "metadata": {
        "id": "0e9b25d3"
      },
      "source": [
        "## 3. While Loop"
      ]
    },
    {
      "cell_type": "code",
      "execution_count": null,
      "id": "835a5283",
      "metadata": {
        "colab": {
          "base_uri": "https://localhost:8080/"
        },
        "id": "835a5283",
        "outputId": "3d325f17-b55f-4587-f940-a85b535adab5"
      },
      "outputs": [
        {
          "output_type": "stream",
          "name": "stdout",
          "text": [
            "1\n",
            "2\n",
            "3\n",
            "4\n",
            "5\n"
          ]
        }
      ],
      "source": [
        "# Initialize variable i with the value 1\n",
        "i = 1\n",
        "\n",
        "# Run the loop as long as i is less than or equal to 5\n",
        "while i <= 5:\n",
        "    # Print the current value of i\n",
        "    print(i)\n",
        "\n",
        "    # Increase the value of i by 1 after each iteration\n",
        "    i += 1"
      ]
    },
    {
      "cell_type": "markdown",
      "id": "1e62475f",
      "metadata": {
        "id": "1e62475f"
      },
      "source": [
        "##  4. Break Statement"
      ]
    },
    {
      "cell_type": "code",
      "execution_count": null,
      "id": "d5d1339b",
      "metadata": {
        "colab": {
          "base_uri": "https://localhost:8080/"
        },
        "id": "d5d1339b",
        "outputId": "2f457d78-d7cf-43ce-bf2f-0321ab3c6403"
      },
      "outputs": [
        {
          "output_type": "stream",
          "name": "stdout",
          "text": [
            "0\n",
            "1\n",
            "2\n",
            "3\n",
            "4\n"
          ]
        }
      ],
      "source": [
        "# Loop through numbers from 0 to 9\n",
        "for i in range(10):\n",
        "    # If the current number is 5, exit the loop completely\n",
        "    if i == 5:\n",
        "        break  # Terminates the loop when i equals 5\n",
        "    # Print the current number\n",
        "    print(i)\n"
      ]
    },
    {
      "cell_type": "markdown",
      "id": "a2cdd343",
      "metadata": {
        "id": "a2cdd343"
      },
      "source": [
        "##  5. Continue Statement"
      ]
    },
    {
      "cell_type": "code",
      "execution_count": null,
      "id": "40705f9a",
      "metadata": {
        "colab": {
          "base_uri": "https://localhost:8080/"
        },
        "id": "40705f9a",
        "outputId": "c47742f8-59b5-4ec9-c2b9-7b2a6b0550a8"
      },
      "outputs": [
        {
          "output_type": "stream",
          "name": "stdout",
          "text": [
            "0\n",
            "1\n",
            "2\n",
            "3\n",
            "4\n",
            "6\n",
            "7\n",
            "8\n",
            "9\n"
          ]
        }
      ],
      "source": [
        "# Loop through numbers from 0 to 9\n",
        "for i in range(10):\n",
        "    # If the current number is 5, skip this iteration\n",
        "    if i == 5:\n",
        "        continue  # Skip printing and go to the next number\n",
        "    # Print the current number\n",
        "    print(i)\n"
      ]
    },
    {
      "cell_type": "markdown",
      "id": "449c8cfc",
      "metadata": {
        "id": "449c8cfc"
      },
      "source": [
        "## 6. Pass Statement"
      ]
    },
    {
      "cell_type": "code",
      "execution_count": null,
      "id": "78ae3e8a",
      "metadata": {
        "colab": {
          "base_uri": "https://localhost:8080/"
        },
        "id": "78ae3e8a",
        "outputId": "75abf822-8a17-4a21-bdd2-a2ef7a1efed7"
      },
      "outputs": [
        {
          "output_type": "stream",
          "name": "stdout",
          "text": [
            "0\n",
            "1\n",
            "2\n",
            "3\n",
            "4\n",
            "5\n",
            "6\n",
            "7\n",
            "8\n",
            "9\n"
          ]
        }
      ],
      "source": [
        "# Loop through numbers from 0 to 9\n",
        "for i in range(10):\n",
        "    # If the number is 5, do nothing and continue\n",
        "    if i == 5:\n",
        "        pass  # 'pass' is a placeholder that does nothing\n",
        "    # Print the current number\n",
        "    print(i)"
      ]
    },
    {
      "cell_type": "markdown",
      "source": [
        "## ✅ Summary:\n",
        "* Learned how to slice strings using [start:end:step]\n",
        "* Used for and while loops for repetition\n",
        "* Applied break to exit a loop early\n",
        "* Used continue to skip to the next iteration\n",
        "* Used pass as a placeholder in loops"
      ],
      "metadata": {
        "id": "m17eseZ0reEH"
      },
      "id": "m17eseZ0reEH"
    }
  ],
  "metadata": {
    "colab": {
      "provenance": [],
      "include_colab_link": true
    },
    "language_info": {
      "name": "python"
    },
    "kernelspec": {
      "name": "python3",
      "display_name": "Python 3"
    }
  },
  "nbformat": 4,
  "nbformat_minor": 5
}