{
  "cells": [
    {
      "cell_type": "markdown",
      "metadata": {
        "id": "view-in-github",
        "colab_type": "text"
      },
      "source": [
        "<a href=\"https://colab.research.google.com/github/ahmadsanafarooq/Python-For-Data-Science/blob/main/Python_Day1.ipynb\" target=\"_parent\"><img src=\"https://colab.research.google.com/assets/colab-badge.svg\" alt=\"Open In Colab\"/></a>"
      ]
    },
    {
      "cell_type": "markdown",
      "metadata": {
        "id": "k_wl4mlDyekR"
      },
      "source": [
        "#  DataDrift with Us - Python Day 1"
      ],
      "id": "k_wl4mlDyekR"
    },
    {
      "cell_type": "markdown",
      "metadata": {
        "id": "VGpwOPt4yekV"
      },
      "source": [
        "###  Topics Covered:\n",
        "- Intro to Python\n",
        "- Google Colab\n",
        "- GitHub Basics\n",
        "- Python Syntax\n",
        "- Comments\n",
        "- Variables\n",
        "- Data Types\n",
        "- F-Strings"
      ],
      "id": "VGpwOPt4yekV"
    },
    {
      "cell_type": "markdown",
      "metadata": {
        "id": "jrUl3WLdyekW"
      },
      "source": [
        "## 🔹 Intro to Python\n",
        "\n",
        "Python is a powerful, easy-to-learn programming language used in:\n",
        "- Data Science\n",
        "- Machine Learning\n",
        "- Web Development\n",
        "- Automation\n",
        "- Robotics and more!"
      ],
      "id": "jrUl3WLdyekW"
    },
    {
      "cell_type": "markdown",
      "metadata": {
        "id": "Ep6-1kzKyekX"
      },
      "source": [
        "## 🔹 Google Colab\n",
        "\n",
        "Google Colab is an online Jupyter notebook environment. It lets you write and run Python code in your browser, with free access to GPUs and cloud storage.\n",
        "\n",
        "👉 [Open Google Colab](https://colab.research.google.com)"
      ],
      "id": "Ep6-1kzKyekX"
    },
    {
      "cell_type": "markdown",
      "metadata": {
        "id": "Dx45yOVMyekY"
      },
      "source": [
        "## 🔹 GitHub Basics\n",
        "\n",
        "GitHub is a platform to host and collaborate on code using version control (Git).\n",
        "- **Repository**: Folder for your project\n",
        "- **Commit**: Save a version of your code\n",
        "- **Push**: Upload changes to GitHub"
      ],
      "id": "Dx45yOVMyekY"
    },
    {
      "cell_type": "markdown",
      "metadata": {
        "id": "5OHz1fUJyekY"
      },
      "source": [
        "## 🔹 Python Syntax"
      ],
      "id": "5OHz1fUJyekY"
    },
    {
      "cell_type": "code",
      "execution_count": 1,
      "metadata": {
        "colab": {
          "base_uri": "https://localhost:8080/"
        },
        "id": "s7E0Er_CyekZ",
        "outputId": "72b49297-d595-485a-8c06-161d2f0db012"
      },
      "outputs": [
        {
          "output_type": "stream",
          "name": "stdout",
          "text": [
            "Hello, Python!\n"
          ]
        }
      ],
      "source": [
        "print(\"Hello, Python!\")"
      ],
      "id": "s7E0Er_CyekZ"
    },
    {
      "cell_type": "markdown",
      "metadata": {
        "id": "8HklWwmbyeka"
      },
      "source": [
        "## 🔹 Comments in Python"
      ],
      "id": "8HklWwmbyeka"
    },
    {
      "cell_type": "code",
      "execution_count": 2,
      "metadata": {
        "colab": {
          "base_uri": "https://localhost:8080/",
          "height": 35
        },
        "id": "nF9_4IJ-yekb",
        "outputId": "22a364e5-f116-4643-d700-1ff39e70611a"
      },
      "outputs": [
        {
          "output_type": "execute_result",
          "data": {
            "text/plain": [
              "'\\nThis is a\\nmulti-line comment\\n'"
            ],
            "application/vnd.google.colaboratory.intrinsic+json": {
              "type": "string"
            }
          },
          "metadata": {},
          "execution_count": 2
        }
      ],
      "source": [
        "# This is a single-line comment\n",
        "'''\n",
        "This is a\n",
        "multi-line comment\n",
        "'''"
      ],
      "id": "nF9_4IJ-yekb"
    },
    {
      "cell_type": "markdown",
      "metadata": {
        "id": "4Fg4fxQpyekc"
      },
      "source": [
        "## 🔹 Variables"
      ],
      "id": "4Fg4fxQpyekc"
    },
    {
      "cell_type": "code",
      "execution_count": 3,
      "metadata": {
        "colab": {
          "base_uri": "https://localhost:8080/"
        },
        "id": "vN7466hJyekc",
        "outputId": "7c388b2d-03b9-4fb1-ae28-2b739f3cd740"
      },
      "outputs": [
        {
          "output_type": "stream",
          "name": "stdout",
          "text": [
            "Ahmad 22\n"
          ]
        }
      ],
      "source": [
        "name = \"Ahmad\"\n",
        "age = 22\n",
        "print(name, age)"
      ],
      "id": "vN7466hJyekc"
    },
    {
      "cell_type": "markdown",
      "metadata": {
        "id": "Cqid9R8kyekc"
      },
      "source": [
        "## 🔹 Data Types"
      ],
      "id": "Cqid9R8kyekc"
    },
    {
      "cell_type": "code",
      "execution_count": 4,
      "metadata": {
        "colab": {
          "base_uri": "https://localhost:8080/"
        },
        "id": "-5haStx-yekd",
        "outputId": "0b16a848-6121-4790-abf8-b8b84d38a64b"
      },
      "outputs": [
        {
          "output_type": "stream",
          "name": "stdout",
          "text": [
            "<class 'int'> <class 'float'> <class 'str'> <class 'bool'>\n"
          ]
        }
      ],
      "source": [
        "x = 10       # int\n",
        "y = 3.14     # float\n",
        "z = 'Hello'  # str\n",
        "flag = True  # bool\n",
        "\n",
        "print(type(x), type(y), type(z), type(flag))"
      ],
      "id": "-5haStx-yekd"
    },
    {
      "cell_type": "markdown",
      "metadata": {
        "id": "_PgLVCULyekd"
      },
      "source": [
        "## 🔹 F-Strings"
      ],
      "id": "_PgLVCULyekd"
    },
    {
      "cell_type": "code",
      "execution_count": 5,
      "metadata": {
        "colab": {
          "base_uri": "https://localhost:8080/"
        },
        "id": "vpcvXSEGyekd",
        "outputId": "2edb7567-6d5f-4953-9b3f-bcf443ba4194"
      },
      "outputs": [
        {
          "output_type": "stream",
          "name": "stdout",
          "text": [
            "My name is Ahmad and I am 22 years old.\n"
          ]
        }
      ],
      "source": [
        "name = \"Ahmad\"\n",
        "age = 22\n",
        "print(f\"My name is {name} and I am {age} years old.\")"
      ],
      "id": "vpcvXSEGyekd"
    },
    {
      "cell_type": "markdown",
      "metadata": {
        "id": "3BgkzIZryekd"
      },
      "source": [
        "## ✅ Summary\n",
        "- Explored Python's purpose\n",
        "- Used Google Colab to write code\n",
        "- Understood GitHub basics\n",
        "- Learned Python syntax, comments, variables, data types, and f-strings"
      ],
      "id": "3BgkzIZryekd"
    }
  ],
  "metadata": {
    "kernelspec": {
      "display_name": "Python 3",
      "language": "python",
      "name": "python3"
    },
    "language_info": {
      "name": "python",
      "version": "3.x"
    },
    "colab": {
      "provenance": [],
      "include_colab_link": true
    }
  },
  "nbformat": 4,
  "nbformat_minor": 5
}
