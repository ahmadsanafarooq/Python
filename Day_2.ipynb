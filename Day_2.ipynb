{
  "cells": [
    {
      "cell_type": "markdown",
      "metadata": {
        "id": "view-in-github",
        "colab_type": "text"
      },
      "source": [
        "<a href=\"https://colab.research.google.com/github/ahmadsanafarooq/Python-For-Data-Science/blob/main/Day_2.ipynb\" target=\"_parent\"><img src=\"https://colab.research.google.com/assets/colab-badge.svg\" alt=\"Open In Colab\"/></a>"
      ]
    },
    {
      "cell_type": "markdown",
      "id": "7de17b21",
      "metadata": {
        "id": "7de17b21"
      },
      "source": [
        "# DataDrift with Us - Python Day 2"
      ]
    },
    {
      "cell_type": "markdown",
      "id": "77b219ef",
      "metadata": {
        "id": "77b219ef"
      },
      "source": [
        "###  Topics Covered:\n",
        "- Input & Output\n",
        "- Data Types\n",
        "- Typecasting\n",
        "- Operators\n",
        "- Conditional Statements"
      ]
    },
    {
      "cell_type": "markdown",
      "id": "138ba85b",
      "metadata": {
        "id": "138ba85b"
      },
      "source": [
        "##  1. Input and Output"
      ]
    },
    {
      "cell_type": "code",
      "execution_count": 1,
      "id": "cd3a8083",
      "metadata": {
        "colab": {
          "base_uri": "https://localhost:8080/"
        },
        "id": "cd3a8083",
        "outputId": "6f5cdcb0-839d-4005-d6d6-6715ff3924aa"
      },
      "outputs": [
        {
          "output_type": "stream",
          "name": "stdout",
          "text": [
            "Enter your name: Ahmad Sana Farooq\n",
            "Hello Ahmad Sana Farooq\n"
          ]
        }
      ],
      "source": [
        "name = input(\"Enter your name: \")\n",
        "print(\"Hello\", name)"
      ]
    },
    {
      "cell_type": "markdown",
      "id": "1751fabb",
      "metadata": {
        "id": "1751fabb"
      },
      "source": [
        "##  2. Checking Data Types"
      ]
    },
    {
      "cell_type": "code",
      "execution_count": 2,
      "id": "0d45b57d",
      "metadata": {
        "colab": {
          "base_uri": "https://localhost:8080/"
        },
        "id": "0d45b57d",
        "outputId": "fc4f2717-85a3-4828-c1ed-7e1d9368b2f5"
      },
      "outputs": [
        {
          "output_type": "stream",
          "name": "stdout",
          "text": [
            "<class 'int'>\n"
          ]
        }
      ],
      "source": [
        "x = 42\n",
        "print(type(x))"
      ]
    },
    {
      "cell_type": "markdown",
      "id": "e95a941b",
      "metadata": {
        "id": "e95a941b"
      },
      "source": [
        "##  3. Typecasting"
      ]
    },
    {
      "cell_type": "code",
      "execution_count": 3,
      "id": "b54106a8",
      "metadata": {
        "colab": {
          "base_uri": "https://localhost:8080/"
        },
        "id": "b54106a8",
        "outputId": "3d24ca32-af77-4fcd-db48-130917f7d867"
      },
      "outputs": [
        {
          "output_type": "stream",
          "name": "stdout",
          "text": [
            "7\n"
          ]
        }
      ],
      "source": [
        "a = \"5\"\n",
        "b = int(a)\n",
        "print(b + 2)"
      ]
    },
    {
      "cell_type": "markdown",
      "id": "c779187f",
      "metadata": {
        "id": "c779187f"
      },
      "source": [
        "**Common functions:** `int()`, `float()`, `str()`, `bool()`"
      ]
    },
    {
      "cell_type": "markdown",
      "id": "157b63d1",
      "metadata": {
        "id": "157b63d1"
      },
      "source": [
        "## 4. Operators in Python"
      ]
    },
    {
      "cell_type": "markdown",
      "id": "b04658d9",
      "metadata": {
        "id": "b04658d9"
      },
      "source": [
        "**Arithmetic Operators:** `+`, `-`, `*`, `/`, `//`, `%`, `**`  \n",
        "**Comparison Operators:** `==`, `!=`, `>`, `<`, `>=`, `<=`  \n",
        "**Logical Operators:** `and`, `or`, `not`"
      ]
    },
    {
      "cell_type": "code",
      "execution_count": 4,
      "id": "390ce712",
      "metadata": {
        "colab": {
          "base_uri": "https://localhost:8080/"
        },
        "id": "390ce712",
        "outputId": "8cb9d9c8-e765-47c0-9d6e-cd3598ae5071"
      },
      "outputs": [
        {
          "output_type": "stream",
          "name": "stdout",
          "text": [
            "True\n"
          ]
        }
      ],
      "source": [
        "a = 10\n",
        "b = 5\n",
        "print(a > b and b < 10)"
      ]
    },
    {
      "cell_type": "markdown",
      "id": "6dca9826",
      "metadata": {
        "id": "6dca9826"
      },
      "source": [
        "## 5. Conditional Statements"
      ]
    },
    {
      "cell_type": "code",
      "execution_count": 5,
      "id": "9937b842",
      "metadata": {
        "colab": {
          "base_uri": "https://localhost:8080/"
        },
        "id": "9937b842",
        "outputId": "66e7d680-0ed6-4413-e6a5-303d6d5d83ab"
      },
      "outputs": [
        {
          "output_type": "stream",
          "name": "stdout",
          "text": [
            "Enter your marks: 50\n",
            "Keep improving!\n"
          ]
        }
      ],
      "source": [
        "marks = int(input(\"Enter your marks: \"))\n",
        "if marks >= 90:\n",
        "    print(\"Grade: A\")\n",
        "elif marks >= 75:\n",
        "    print(\"Grade: B\")\n",
        "else:\n",
        "    print(\"Keep improving!\")"
      ]
    },
    {
      "cell_type": "markdown",
      "id": "d3ae345f",
      "metadata": {
        "id": "d3ae345f"
      },
      "source": [
        "## ✅ Summary:\n",
        "- Took user input and printed output\n",
        "- Checked and converted data types\n",
        "- Practiced math & logic using operators\n",
        "- Used conditions to control code flow"
      ]
    }
  ],
  "metadata": {
    "colab": {
      "provenance": [],
      "include_colab_link": true
    },
    "language_info": {
      "name": "python"
    },
    "kernelspec": {
      "name": "python3",
      "display_name": "Python 3"
    }
  },
  "nbformat": 4,
  "nbformat_minor": 5
}